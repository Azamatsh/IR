{
 "cells": [
  {
   "cell_type": "code",
   "execution_count": 1,
   "metadata": {},
   "outputs": [],
   "source": [
    "from elasticsearch import Elasticsearch\n",
    "from elasticsearch.helpers import bulk, parallel_bulk\n",
    "import ir_measures\n",
    "from ir_measures import *\n",
    "import pandas as pd\n",
    "import json\n",
    "from tqdm import tqdm\n",
    "from time import time\n",
    "import warnings\n",
    "warnings.filterwarnings(\"ignore\")\n",
    "from sentence_transformers import SentenceTransformer, util\n"
   ]
  },
  {
   "cell_type": "markdown",
   "metadata": {},
   "source": [
    "# Connection"
   ]
  },
  {
   "cell_type": "code",
   "execution_count": 2,
   "metadata": {},
   "outputs": [],
   "source": [
    "es = Elasticsearch(hosts='https://localhost:9200', \n",
    "                     basic_auth=('elastic', 'sYV-CgqebNRTw1e=L=pY'),\n",
    "                     verify_certs=False)\n"
   ]
  },
  {
   "cell_type": "markdown",
   "metadata": {},
   "source": [
    "## WikiIR"
   ]
  },
  {
   "cell_type": "code",
   "execution_count": 3,
   "metadata": {},
   "outputs": [],
   "source": [
    "df = pd.read_csv('wikIR1k/documents.csv')\n"
   ]
  },
  {
   "cell_type": "markdown",
   "metadata": {},
   "source": [
    "### Index Configuration"
   ]
  },
  {
   "cell_type": "code",
   "execution_count": 4,
   "metadata": {},
   "outputs": [
    {
     "data": {
      "text/plain": [
       "ObjectApiResponse({'acknowledged': True, 'shards_acknowledged': True, 'index': 'wiki'})"
      ]
     },
     "execution_count": 4,
     "metadata": {},
     "output_type": "execute_result"
    }
   ],
   "source": [
    "# Without stemming\n",
    "\n",
    "mappings = {\n",
    "    'properties': {\n",
    "        'text': {\n",
    "            'type': 'text',\n",
    "            'analyzer': 'white'\n",
    "        }\n",
    "    }\n",
    "}\n",
    "\n",
    "settings = {\n",
    "    \"number_of_shards\" : 5,\n",
    "    'index' : {\n",
    "        'similarity' : {\n",
    "          'default' : {\n",
    "            'type' : 'BM25'\n",
    "          }\n",
    "        }\n",
    "    },\n",
    "    'analysis' : {\n",
    "        'analyzer' : {\n",
    "            'white' : {\n",
    "                'tokenizer' : 'whitespace'\n",
    "            }\n",
    "        }\n",
    "    }\n",
    "}\n",
    "\n",
    "index = 'wiki'\n",
    "\n",
    "if es.indices.exists(index=index):\n",
    "    es.indices.delete(index=index)\n",
    "es.indices.create(index=index, settings=settings, mappings=mappings)"
   ]
  },
  {
   "cell_type": "code",
   "execution_count": 5,
   "metadata": {},
   "outputs": [
    {
     "name": "stderr",
     "output_type": "stream",
     "text": [
      "100%|██████████████████████████████| 369721/369721 [00:35<00:00, 10531.45it/s]\n"
     ]
    },
    {
     "name": "stdout",
     "output_type": "stream",
     "text": [
      "Indexing time: 35.836485147476196\n"
     ]
    },
    {
     "data": {
      "text/plain": [
       "ObjectApiResponse({'_shards': {'total': 10, 'successful': 5, 'failed': 0}})"
      ]
     },
     "execution_count": 5,
     "metadata": {},
     "output_type": "execute_result"
    }
   ],
   "source": [
    "# Indexing documents\n",
    "\n",
    "def create_es_action(index, doc_id, document):\n",
    "    return {\n",
    "        '_index': index,\n",
    "        '_id': doc_id,\n",
    "        '_source': document\n",
    "    }\n",
    "\n",
    "\n",
    "def es_action_generator(df):\n",
    "    for doc_id, row in tqdm(df.iterrows(), total=df.shape[0], bar_format='{l_bar}{bar:30}{r_bar}{bar:-10b}'):\n",
    "        doc = {'text': row['text_right']}\n",
    "        yield create_es_action(index, row['id_right'], doc)\n",
    "\n",
    "\n",
    "start = time()\n",
    "for ok, result in parallel_bulk(es, es_action_generator(df), queue_size=4, thread_count=4, chunk_size=1000):\n",
    "    if not ok:\n",
    "        print(result)\n",
    "stop = time()\n",
    "print('Indexing time:', stop - start)\n",
    "        \n",
    "es.indices.refresh(index=index)"
   ]
  },
  {
   "cell_type": "markdown",
   "metadata": {},
   "source": [
    "## Search"
   ]
  },
  {
   "cell_type": "code",
   "execution_count": 7,
   "metadata": {},
   "outputs": [],
   "source": [
    "def pretty_print_result(search_result, fields=[]):\n",
    "    res = search_result['hits']\n",
    "    print(f'Total documents: {res[\"total\"][\"value\"]}')\n",
    "    for hit in res['hits']:\n",
    "        print(f'Doc {hit[\"_id\"]}, score is {hit[\"_score\"]}')\n",
    "        for field in fields:\n",
    "            print(f'{field}: {hit[\"_source\"][field]}')\n",
    "    \n",
    "def search(query, *args):\n",
    "    return pretty_print_result(es.search(index=index, query=query, size=20), args)\n",
    "\n",
    "def get_doc_by_id(doc_id):\n",
    "    return es.get(index=index, id=doc_id)['_source']"
   ]
  },
  {
   "cell_type": "markdown",
   "metadata": {},
   "source": [
    "## Queries"
   ]
  },
  {
   "cell_type": "code",
   "execution_count": 8,
   "metadata": {},
   "outputs": [],
   "source": [
    "test_queries = pd.read_csv('wikIR1k/test/queries.csv')\n"
   ]
  },
  {
   "cell_type": "code",
   "execution_count": 9,
   "metadata": {},
   "outputs": [
    {
     "name": "stdout",
     "output_type": "stream",
     "text": [
      "Total documents: 10000\n",
      "Doc 1880296, score is 17.230719\n",
      "Doc 607552, score is 17.198406\n",
      "Doc 2261272, score is 17.183655\n",
      "Doc 1957435, score is 16.908918\n",
      "Doc 625257, score is 16.856976\n",
      "Doc 635537, score is 16.771313\n",
      "Doc 1774491, score is 16.640131\n",
      "Doc 663828, score is 16.487574\n",
      "Doc 158491, score is 15.997955\n",
      "Doc 1956922, score is 15.973572\n",
      "Doc 1180246, score is 15.590252\n",
      "Doc 1170039, score is 15.534702\n",
      "Doc 945068, score is 15.526761\n",
      "Doc 589549, score is 15.501228\n",
      "Doc 360918, score is 15.501228\n",
      "Doc 685181, score is 15.335788\n",
      "Doc 2411344, score is 15.325968\n",
      "Doc 1158969, score is 15.273922\n",
      "Doc 1093529, score is 15.163386\n",
      "Doc 742912, score is 15.109789\n"
     ]
    }
   ],
   "source": [
    "def make_query(text):\n",
    "    return {\n",
    "        'bool': {\n",
    "            \n",
    "            'must': {\n",
    "                'match': {\n",
    "                    'text': text\n",
    "                }\n",
    "            }\n",
    "        }\n",
    "    }\n",
    "\n",
    "search(make_query(test_queries['text_left'][0]))\n"
   ]
  },
  {
   "cell_type": "code",
   "execution_count": 13,
   "metadata": {},
   "outputs": [
    {
     "data": {
      "text/plain": [
       "{P@20: 0.14800000000000005,\n",
       " AP@20: 0.14619425811737782,\n",
       " P@10: 0.20599999999999988}"
      ]
     },
     "execution_count": 13,
     "metadata": {},
     "output_type": "execute_result"
    }
   ],
   "source": [
    "run = {\n",
    "    str(row['id_left']): {\n",
    "        hit['_id']: hit['_score']\n",
    "        for hit in es.search(index=index, query=make_query(row['text_left']), size=20)['hits']['hits']\n",
    "    }\n",
    "    for _, row in test_queries.iterrows()\n",
    "}\n",
    "\n",
    "qrels = ir_measures.read_trec_qrels('wikIR1k/test/qrels')\n",
    "ir_measures.calc_aggregate([P@10, P@20, MAP@20], qrels, run)\n"
   ]
  },
  {
   "cell_type": "code",
   "execution_count": 16,
   "metadata": {},
   "outputs": [],
   "source": [
    "from tqdm import tqdm\n",
    "from sentence_transformers import SentenceTransformer, util\n",
    "\n",
    "def get_run_from_model(model, run):\n",
    "    q_ids = list(run.keys())\n",
    "    run_cosine = {}\n",
    "\n",
    "    for q_id in tqdm(q_ids, total=len(q_ids), bar_format='{l_bar}{bar:30}{r_bar}{bar:-10b}'):\n",
    "        query_text = test_queries.loc[test_queries['id_left'] == int(q_id), 'text_left'].iloc[0]\n",
    "        query_embedding = model.encode(query_text)\n",
    "        run_cosine[q_id] = {}\n",
    "\n",
    "        docs_texts = [df.loc[df['id_right'] == int(doc_id), 'text_right'].iloc[0] for doc_id in run[q_id]]\n",
    "        docs_embedding = model.encode(docs_texts)\n",
    "\n",
    "        if len(docs_embedding) == 0:\n",
    "            continue\n",
    "\n",
    "        cos_sim = util.cos_sim(query_embedding, docs_embedding)[0]\n",
    "        run_cosine[q_id] = {doc_id: cos_sim[i].item() for i, doc_id in enumerate(run[q_id])}\n",
    "\n",
    "    return run_cosine\n",
    "\n"
   ]
  },
  {
   "cell_type": "code",
   "execution_count": 18,
   "metadata": {},
   "outputs": [
    {
     "name": "stderr",
     "output_type": "stream",
     "text": [
      "\n",
      "  0%|                              | 0/100 [00:00<?, ?it/s]\u001b[A\n",
      "  1%|▎                             | 1/100 [00:11<18:46, 11.38s/it]\u001b[A\n",
      "  2%|▌                             | 2/100 [00:24<19:15, 11.80s/it]\u001b[A\n",
      "  3%|▉                             | 3/100 [00:34<18:20, 11.35s/it]\u001b[A\n",
      "  4%|█▏                            | 4/100 [00:44<17:41, 11.06s/it]\u001b[A\n",
      "  5%|█▌                            | 5/100 [00:55<17:25, 11.00s/it]\u001b[A\n",
      "  6%|█▊                            | 6/100 [01:08<17:52, 11.40s/it]\u001b[A\n",
      "  7%|██                            | 7/100 [01:19<17:42, 11.43s/it]\u001b[A\n",
      "  8%|██▍                           | 8/100 [01:31<17:53, 11.67s/it]\u001b[A\n",
      "  9%|██▋                           | 9/100 [01:43<17:50, 11.77s/it]\u001b[A\n",
      " 10%|███                           | 10/100 [01:57<18:43, 12.48s/it]\u001b[A\n",
      " 11%|███▎                          | 11/100 [02:09<18:16, 12.32s/it]\u001b[A\n",
      " 12%|███▌                          | 12/100 [02:20<17:31, 11.95s/it]\u001b[A\n",
      " 13%|███▉                          | 13/100 [02:33<17:27, 12.04s/it]\u001b[A\n",
      " 14%|████▏                         | 14/100 [02:46<17:51, 12.46s/it]\u001b[A\n",
      " 16%|████▊                         | 16/100 [02:57<14:33, 10.40s/it]\u001b[A\n",
      " 17%|█████                         | 17/100 [03:10<15:09, 10.96s/it]\u001b[A\n",
      " 18%|█████▍                        | 18/100 [03:21<15:13, 11.14s/it]\u001b[A\n",
      " 19%|█████▋                        | 19/100 [03:32<15:04, 11.17s/it]\u001b[A\n",
      " 20%|██████                        | 20/100 [03:43<14:40, 11.01s/it]\u001b[A\n",
      " 21%|██████▎                       | 21/100 [03:56<15:13, 11.57s/it]\u001b[A\n",
      " 22%|██████▌                       | 22/100 [04:07<14:39, 11.28s/it]\u001b[A\n",
      " 23%|██████▉                       | 23/100 [04:17<14:11, 11.06s/it]\u001b[A\n",
      " 24%|███████▏                      | 24/100 [04:27<13:34, 10.72s/it]\u001b[A\n",
      " 25%|███████▌                      | 25/100 [04:39<13:51, 11.09s/it]\u001b[A\n",
      " 26%|███████▊                      | 26/100 [04:49<13:25, 10.89s/it]\u001b[A\n",
      " 27%|████████                      | 27/100 [05:00<12:59, 10.68s/it]\u001b[A\n",
      " 28%|████████▍                     | 28/100 [05:11<13:13, 11.02s/it]\u001b[A\n",
      " 29%|████████▋                     | 29/100 [05:24<13:43, 11.59s/it]\u001b[A\n",
      " 30%|█████████                     | 30/100 [05:36<13:43, 11.77s/it]\u001b[A\n",
      " 31%|█████████▎                    | 31/100 [05:47<13:15, 11.53s/it]\u001b[A\n",
      " 32%|█████████▌                    | 32/100 [06:01<13:35, 12.00s/it]\u001b[A\n",
      " 33%|█████████▉                    | 33/100 [06:14<13:52, 12.43s/it]\u001b[A\n",
      " 34%|██████████▏                   | 34/100 [06:29<14:33, 13.23s/it]\u001b[A\n",
      " 35%|██████████▌                   | 35/100 [06:40<13:31, 12.49s/it]\u001b[A\n",
      " 36%|██████████▊                   | 36/100 [06:51<12:58, 12.17s/it]\u001b[A\n",
      " 37%|███████████                   | 37/100 [07:02<12:25, 11.83s/it]\u001b[A\n",
      " 38%|███████████▍                  | 38/100 [07:13<11:44, 11.37s/it]\u001b[A\n",
      " 39%|███████████▋                  | 39/100 [07:25<11:58, 11.78s/it]\u001b[A\n",
      " 40%|████████████                  | 40/100 [07:40<12:33, 12.55s/it]\u001b[A\n",
      " 41%|████████████▎                 | 41/100 [07:59<14:17, 14.54s/it]\u001b[A\n",
      " 42%|████████████▌                 | 42/100 [08:09<12:54, 13.35s/it]\u001b[A\n",
      " 43%|████████████▉                 | 43/100 [08:20<11:56, 12.56s/it]\u001b[A\n",
      " 44%|█████████████▏                | 44/100 [08:31<11:19, 12.14s/it]\u001b[A\n",
      " 45%|█████████████▌                | 45/100 [08:43<10:59, 11.99s/it]\u001b[A\n",
      " 46%|█████████████▊                | 46/100 [08:55<10:53, 12.10s/it]\u001b[A\n",
      " 47%|██████████████                | 47/100 [09:08<10:56, 12.38s/it]\u001b[A\n",
      " 48%|██████████████▍               | 48/100 [09:19<10:23, 11.98s/it]\u001b[A\n",
      " 49%|██████████████▋               | 49/100 [09:30<09:48, 11.53s/it]\u001b[A\n",
      " 50%|███████████████               | 50/100 [09:42<09:48, 11.78s/it]\u001b[A\n",
      " 51%|███████████████▎              | 51/100 [09:54<09:33, 11.70s/it]\u001b[A\n",
      " 52%|███████████████▌              | 52/100 [10:04<08:59, 11.23s/it]\u001b[A\n",
      " 53%|███████████████▉              | 53/100 [10:15<08:44, 11.17s/it]\u001b[A\n",
      " 54%|████████████████▏             | 54/100 [10:28<09:00, 11.76s/it]\u001b[A\n",
      " 55%|████████████████▌             | 55/100 [10:41<08:59, 12.00s/it]\u001b[A\n",
      " 56%|████████████████▊             | 56/100 [10:52<08:42, 11.87s/it]\u001b[A\n",
      " 57%|█████████████████             | 57/100 [11:04<08:35, 11.99s/it]\u001b[A\n",
      " 58%|█████████████████▍            | 58/100 [11:16<08:22, 11.97s/it]\u001b[A\n",
      " 59%|█████████████████▋            | 59/100 [11:27<07:51, 11.50s/it]\u001b[A\n",
      " 60%|██████████████████            | 60/100 [11:37<07:19, 10.99s/it]\u001b[A\n",
      " 61%|██████████████████▎           | 61/100 [11:48<07:10, 11.05s/it]\u001b[A\n",
      " 62%|██████████████████▌           | 62/100 [11:58<06:50, 10.81s/it]\u001b[A\n",
      " 63%|██████████████████▉           | 63/100 [12:09<06:38, 10.76s/it]\u001b[A\n",
      " 64%|███████████████████▏          | 64/100 [12:19<06:25, 10.71s/it]\u001b[A\n",
      " 65%|███████████████████▌          | 65/100 [12:29<06:09, 10.56s/it]\u001b[A\n",
      " 66%|███████████████████▊          | 66/100 [12:40<05:54, 10.41s/it]\u001b[A\n",
      " 67%|████████████████████          | 67/100 [12:49<05:38, 10.27s/it]\u001b[A\n",
      " 68%|████████████████████▍         | 68/100 [13:00<05:28, 10.27s/it]\u001b[A\n",
      " 69%|████████████████████▋         | 69/100 [13:10<05:19, 10.30s/it]\u001b[A\n",
      " 70%|█████████████████████         | 70/100 [13:22<05:20, 10.69s/it]\u001b[A\n",
      " 71%|█████████████████████▎        | 71/100 [13:33<05:14, 10.84s/it]\u001b[A\n",
      " 72%|█████████████████████▌        | 72/100 [13:43<05:01, 10.76s/it]\u001b[A\n",
      " 73%|█████████████████████▉        | 73/100 [13:46<03:46,  8.38s/it]\u001b[A\n",
      " 74%|██████████████████████▏       | 74/100 [13:58<04:05,  9.45s/it]\u001b[A\n",
      " 75%|██████████████████████▌       | 75/100 [14:09<04:09,  9.98s/it]\u001b[A\n",
      " 76%|██████████████████████▊       | 76/100 [14:21<04:13, 10.54s/it]\u001b[A\n",
      " 77%|███████████████████████       | 77/100 [14:32<04:03, 10.59s/it]\u001b[A\n",
      " 78%|███████████████████████▍      | 78/100 [14:42<03:49, 10.44s/it]\u001b[A\n",
      " 79%|███████████████████████▋      | 79/100 [14:54<03:46, 10.81s/it]\u001b[A\n",
      " 80%|████████████████████████      | 80/100 [15:06<03:42, 11.12s/it]\u001b[A\n",
      " 81%|████████████████████████▎     | 81/100 [15:17<03:33, 11.24s/it]\u001b[A\n",
      " 82%|████████████████████████▌     | 82/100 [15:27<03:17, 10.95s/it]\u001b[A\n",
      " 83%|████████████████████████▉     | 83/100 [15:38<03:02, 10.72s/it]\u001b[A\n",
      " 84%|█████████████████████████▏    | 84/100 [15:49<02:57, 11.07s/it]\u001b[A\n",
      " 85%|█████████████████████████▌    | 85/100 [16:00<02:44, 10.97s/it]\u001b[A\n",
      " 86%|█████████████████████████▊    | 86/100 [16:12<02:38, 11.30s/it]\u001b[A\n",
      " 87%|██████████████████████████    | 87/100 [16:25<02:32, 11.76s/it]\u001b[A\n",
      " 88%|██████████████████████████▍   | 88/100 [16:37<02:21, 11.76s/it]\u001b[A\n",
      " 89%|██████████████████████████▋   | 89/100 [16:47<02:04, 11.30s/it]\u001b[A\n",
      " 90%|███████████████████████████   | 90/100 [17:00<01:56, 11.64s/it]\u001b[A\n",
      " 91%|███████████████████████████▎  | 91/100 [17:10<01:41, 11.26s/it]\u001b[A\n",
      " 92%|███████████████████████████▌  | 92/100 [17:20<01:27, 10.93s/it]\u001b[A\n",
      " 93%|███████████████████████████▉  | 93/100 [17:30<01:15, 10.76s/it]\u001b[A\n",
      " 94%|████████████████████████████▏ | 94/100 [17:43<01:08, 11.43s/it]\u001b[A\n",
      " 95%|████████████████████████████▌ | 95/100 [17:54<00:56, 11.29s/it]\u001b[A\n",
      " 96%|████████████████████████████▊ | 96/100 [18:05<00:44, 11.21s/it]\u001b[A\n",
      " 97%|█████████████████████████████ | 97/100 [18:16<00:33, 11.07s/it]\u001b[A\n",
      " 98%|█████████████████████████████▍| 98/100 [18:26<00:21, 10.72s/it]\u001b[A\n",
      " 99%|█████████████████████████████▋| 99/100 [18:37<00:10, 10.69s/it]\u001b[A\n",
      "100%|██████████████████████████████| 100/100 [18:48<00:00, 11.28s/it]\u001b[A\n"
     ]
    }
   ],
   "source": [
    "model = SentenceTransformer('msmarco-distilbert-cos-v5')\n",
    "run_cosine = get_run_from_model(model, run)"
   ]
  },
  {
   "cell_type": "code",
   "execution_count": 19,
   "metadata": {},
   "outputs": [
    {
     "data": {
      "text/plain": [
       "{P@20: 0.14800000000000005,\n",
       " AP@20: 0.17025855229129153,\n",
       " P@10: 0.2339999999999999}"
      ]
     },
     "execution_count": 19,
     "metadata": {},
     "output_type": "execute_result"
    }
   ],
   "source": [
    "qrels = ir_measures.read_trec_qrels('wikIR1k/test/qrels')\n",
    "ir_measures.calc_aggregate([P@10, P@20, MAP@20], qrels, run_cosine)"
   ]
  },
  {
   "cell_type": "code",
   "execution_count": null,
   "metadata": {},
   "outputs": [],
   "source": []
  }
 ],
 "metadata": {
  "kernelspec": {
   "display_name": "Python 3",
   "language": "python",
   "name": "python3"
  },
  "language_info": {
   "codemirror_mode": {
    "name": "ipython",
    "version": 3
   },
   "file_extension": ".py",
   "mimetype": "text/x-python",
   "name": "python",
   "nbconvert_exporter": "python",
   "pygments_lexer": "ipython3",
   "version": "3.8.5"
  }
 },
 "nbformat": 4,
 "nbformat_minor": 4
}
